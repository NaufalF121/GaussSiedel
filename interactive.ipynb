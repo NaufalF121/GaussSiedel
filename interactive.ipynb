{
 "cells": [
  {
   "cell_type": "code",
   "execution_count": 86,
   "metadata": {},
   "outputs": [],
   "source": [
    "eq = [\n",
    "    \"10*x1 - x2 + 2*x3 - 6\",\n",
    "    \"-x1 + 11*x2 - x3 + 3*x4 - 25\",\n",
    "    \"2*x1 - x2 + 10*x3 - x4 + 11\",\n",
    "    \"3*x2 - x3 + 8*x4 - 15\",\n",
    "]\n"
   ]
  },
  {
   "cell_type": "code",
   "execution_count": 87,
   "metadata": {},
   "outputs": [],
   "source": [
    "\n",
    "import copy\n",
    "import sympy as sym\n",
    "from pprint import pprint\n",
    "class Gauss:\n",
    "    def __init__(self, _val:list) -> None:\n",
    "        self._val = []\n",
    "        self.__log = {0:\n",
    "                      self._val}\n",
    "    def include (self, __input:list, iter:int):\n",
    "        self._val = __input\n",
    "        self.__log[iter]= __input\n",
    "        \n",
    "    def output(self):\n",
    "        return self.__log\n",
    "class iterate:\n",
    "    def __init__(self, _eq: list) -> None:\n",
    "        self.eq = []\n",
    "\n",
    "        for i in range(len(_eq)):\n",
    "            _eq[i] = sym.sympify(_eq[i])\n",
    "            _eq[i] = sym.solve(_eq[i], sym.Symbol(f\"x{i + 1}\"))[0]\n",
    "\n",
    "        for i in range(len(_eq) + 1):\n",
    "            globals()[f\"x{i+1}\"] = sym.Symbol(f\"x{i+1}\")\n",
    "\n",
    "        for i in range(len(_eq)):\n",
    "            self.eq.append(sym.sympify(str(_eq[i])))\n",
    "\n",
    "        self.x = {0: [\"0\"] * len(_eq)}\n",
    "\n",
    "       \n",
    "        \n",
    "    def solve(self, n_iter: int) -> list:\n",
    "        self.process = Gauss(self.x[0])\n",
    "\n",
    "        for i in range(n_iter):\n",
    "            curr = copy.deepcopy(self.x[i])\n",
    "            for j in range(len(self.eq)):\n",
    "                subs_dict = {\n",
    "                    sym.Symbol(f\"x{k+1}\"): float(curr[k])\n",
    "                    for k in range(len(curr))\n",
    "                }\n",
    "\n",
    "                curr[j] = (self.eq[j].subs(subs_dict).evalf())\n",
    "            self.x[i+1] = curr\n",
    "            self.process.include(curr, i+1)\n",
    "\n",
    "        self.hasil = self.x[n_iter]\n",
    "    def output(self):\n",
    "        return self.eq, self.hasil\n",
    "    def log(self ):\n",
    "        return self.process.output()\n",
    "    \n",
    "class convert:\n",
    "    def __init__(self, __eq:list) -> None:\n",
    "        self.matriks, self.vec  = sym.linear_eq_to_matrix(__eq, sym.symbols(f'x1:{len(__eq)+1}'))\n",
    "    def ouput(self):\n",
    "        return self.matriks, self.vec\n",
    "    def dominant(self):\n",
    "        return self.matriks.is_strongly_diagonally_dominant"
   ]
  },
  {
   "cell_type": "code",
   "execution_count": 88,
   "metadata": {},
   "outputs": [
    {
     "name": "stdout",
     "output_type": "stream",
     "text": [
      "(Matrix([\n",
      "[10, -1,  2,  0],\n",
      "[-1, 11, -1,  3],\n",
      "[ 2, -1, 10, -1],\n",
      "[ 0,  3, -1,  8]]),\n",
      " Matrix([\n",
      "[  6],\n",
      "[ 25],\n",
      "[-11],\n",
      "[ 15]]))\n",
      "True\n"
     ]
    }
   ],
   "source": [
    "pprint(convert(eq).ouput())\n",
    "pprint(convert(eq).dominant())"
   ]
  },
  {
   "cell_type": "code",
   "execution_count": 89,
   "metadata": {},
   "outputs": [
    {
     "name": "stdout",
     "output_type": "stream",
     "text": [
      "[x2/10 - x3/5 + 3/5,\n",
      " x1/11 + x3/11 - 3*x4/11 + 25/11,\n",
      " -x1/5 + x2/10 + x4/10 - 11/10,\n",
      " -3*x2/8 + x3/8 + 15/8]\n",
      "[0.999999999986812, 1.99999999985957, -0.999999999976391, 1.00000000005561]\n",
      "{0: [],\n",
      " 1: [0.600000000000000,\n",
      "     2.32727272727273,\n",
      "     -0.987272727272727,\n",
      "     0.878863636363636],\n",
      " 2: [1.03018181818182, 2.03693801652893, -1.01445619834711, 0.984341219008264],\n",
      " 3: [1.00658504132231, 2.00355501690458, -1.00252738467318, 0.998350945576634],\n",
      " 4: [1.00086097862509, 2.00029825065655, -1.00030727610170, 0.999849746491082],\n",
      " 5: [1.00009128028599, 2.00002134224646, -1.00003114718345, 0.999988103259647],\n",
      " 6: [1.00000836366134, 2.00000117333627, -1.00000274507268, 0.999999216864815],\n",
      " 7: [1.00000066634816, 2.00000002460737, -1.00000020912241, 0.999999964631935],\n",
      " 8: [1.00000004428522, 1.99999999466064, -1.00000001292779, 1.00000000038629],\n",
      " 9: [1.00000000205162, 1.99999999890591, -1.00000000048110, 1.00000000035015],\n",
      " 10: [0.999999999986812,\n",
      "      1.99999999985957,\n",
      "      -0.999999999976391,\n",
      "      1.00000000005561]}\n"
     ]
    }
   ],
   "source": [
    "\n",
    "matriks = iterate(eq)\n",
    "matriks.solve(10)\n",
    "eq, ans = matriks.output()\n",
    "pprint(eq)\n",
    "pprint(ans)\n",
    "pprint(matriks.log())"
   ]
  }
 ],
 "metadata": {
  "kernelspec": {
   "display_name": "base",
   "language": "python",
   "name": "python3"
  },
  "language_info": {
   "codemirror_mode": {
    "name": "ipython",
    "version": 3
   },
   "file_extension": ".py",
   "mimetype": "text/x-python",
   "name": "python",
   "nbconvert_exporter": "python",
   "pygments_lexer": "ipython3",
   "version": "3.11.4"
  }
 },
 "nbformat": 4,
 "nbformat_minor": 2
}
