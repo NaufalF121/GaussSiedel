{
 "cells": [
  {
   "cell_type": "code",
   "execution_count": 10,
   "metadata": {},
   "outputs": [],
   "source": [
    "eq = [\n",
    "    \"10*x1 - x2 + 2*x3 - 6\",\n",
    "    \"-x1 + 11*x2 - x3 + 3*x4 - 25\",\n",
    "    \"2*x1 - x2 + 10*x3 - x4 + 11\",\n",
    "    \"3*x2 - x3 + 8*x4 - 15\",\n",
    "]\n"
   ]
  },
  {
   "cell_type": "code",
   "execution_count": 11,
   "metadata": {},
   "outputs": [],
   "source": [
    "\n",
    "import sympy as sym\n",
    "\n",
    "\n",
    "class iterate:\n",
    "    def __init__(self, _eq: list) -> None:\n",
    "        self.eq = []\n",
    "\n",
    "        for i in range(len(_eq)):\n",
    "            _eq[i] = sym.sympify(_eq[i])\n",
    "            _eq[i] = sym.solve(_eq[i], sym.Symbol(f\"x{i + 1}\"))[0]\n",
    "\n",
    "        for i in range(len(_eq) + 1):\n",
    "            globals()[f\"x{i+1}\"] = sym.Symbol(f\"x{i+1}\")\n",
    "\n",
    "        for i in range(len(_eq)):\n",
    "            self.eq.append(sym.sympify(str(_eq[i])))\n",
    "\n",
    "        self.x = {0: [\"0\"] * len(_eq)}\n",
    "\n",
    "        self.__log_iter = {\n",
    "            0: {\n",
    "                \"iter\": 0,\n",
    "                \"xi\": self.x[0],\n",
    "            }\n",
    "        }\n",
    "        self.hasil\n",
    "    def solve(self, n_iter: int) -> list:\n",
    "        for i in range(n_iter):\n",
    "            curr = self.x[i]\n",
    "            for j in range(len(self.eq)):\n",
    "                subs_dict = {\n",
    "                    sym.Symbol(f\"x{k+1}\"): float(curr[k])\n",
    "                    for k in range(len(curr))\n",
    "                }\n",
    "\n",
    "                curr[j] = (self.eq[j].subs(subs_dict).evalf())\n",
    "            \n",
    "            self.x[i+1] = curr\n",
    "            self.__log_iter[i + 1] = {\n",
    "                \"iter\": i + 1,\n",
    "                \"xi\": curr,\n",
    "            }\n",
    "\n",
    "        return self.x[n_iter]\n",
    "    def output(self):\n",
    "        return self.eq, self.__log_iter"
   ]
  },
  {
   "cell_type": "code",
   "execution_count": 12,
   "metadata": {},
   "outputs": [
    {
     "name": "stdout",
     "output_type": "stream",
     "text": [
      "[1.00009128028599, 2.00002134224646, -1.00003114718345, 0.999988103259647]\n",
      "[x2/10 - x3/5 + 3/5,\n",
      " x1/11 + x3/11 - 3*x4/11 + 25/11,\n",
      " -x1/5 + x2/10 + x4/10 - 11/10,\n",
      " -3*x2/8 + x3/8 + 15/8]\n",
      "{0: {'iter': 0,\n",
      "     'xi': [1.00009128028599,\n",
      "            2.00002134224646,\n",
      "            -1.00003114718345,\n",
      "            0.999988103259647]},\n",
      " 1: {'iter': 1,\n",
      "     'xi': [1.00009128028599,\n",
      "            2.00002134224646,\n",
      "            -1.00003114718345,\n",
      "            0.999988103259647]},\n",
      " 2: {'iter': 2,\n",
      "     'xi': [1.00009128028599,\n",
      "            2.00002134224646,\n",
      "            -1.00003114718345,\n",
      "            0.999988103259647]},\n",
      " 3: {'iter': 3,\n",
      "     'xi': [1.00009128028599,\n",
      "            2.00002134224646,\n",
      "            -1.00003114718345,\n",
      "            0.999988103259647]},\n",
      " 4: {'iter': 4,\n",
      "     'xi': [1.00009128028599,\n",
      "            2.00002134224646,\n",
      "            -1.00003114718345,\n",
      "            0.999988103259647]},\n",
      " 5: {'iter': 5,\n",
      "     'xi': [1.00009128028599,\n",
      "            2.00002134224646,\n",
      "            -1.00003114718345,\n",
      "            0.999988103259647]}}\n"
     ]
    }
   ],
   "source": [
    "from pprint import pprint\n",
    "matriks = iterate(eq)\n",
    "eq, ans = matriks.output()\n",
    "pprint(matriks.solve(5))\n",
    "pprint(eq)\n",
    "pprint(ans)"
   ]
  }
 ],
 "metadata": {
  "kernelspec": {
   "display_name": "base",
   "language": "python",
   "name": "python3"
  },
  "language_info": {
   "codemirror_mode": {
    "name": "ipython",
    "version": 3
   },
   "file_extension": ".py",
   "mimetype": "text/x-python",
   "name": "python",
   "nbconvert_exporter": "python",
   "pygments_lexer": "ipython3",
   "version": "3.11.4"
  }
 },
 "nbformat": 4,
 "nbformat_minor": 2
}
